{
 "cells": [
  {
   "cell_type": "markdown",
   "metadata": {},
   "source": [
    "# Monthly Card Data Processing"
   ]
  },
  {
   "cell_type": "markdown",
   "metadata": {},
   "source": [
    "This notebook processes 12 months of scraped card transaction data from a website. It filters irrelevant columns, unmerges cells, aggregates volume and value per transaction mode, removes specific banks, tags remaining banks, and cleans empty rows/columns."
   ]
  },
  {
   "cell_type": "code",
   "execution_count": 37,
   "metadata": {},
   "outputs": [],
   "source": [
    "# importing required libraries\n",
    "import os\n",
    "import pandas as pd"
   ]
  },
  {
   "cell_type": "code",
   "execution_count": null,
   "metadata": {},
   "outputs": [],
   "source": [
    "def clean_and_save_df(df, output_name, output_directory):\n",
    "    df.columns = [chr(ord('A') + i // 26 - 1) + chr(ord('A') + i % 26) if i >= 26 else chr(ord('A') + i) for i in range(29)]\n",
    "    df = df.drop(df.index[:9]).reset_index(drop=True)\n",
    "    del_from_payment_banks_index = df.index[df['B'].str.contains('Payment Banks', na=False)].tolist()\n",
    "    max_index = max(del_from_payment_banks_index, default=-1)\n",
    "    df = df.loc[:max_index].reset_index(drop=True)\n",
    "    df = df.dropna(thresh=df.shape[1] - 5).reset_index(drop=True)\n",
    "    columns_to_delete = ['A', 'B', 'D', 'E', 'F', 'G', 'H', 'I', 'R', 'S']\n",
    "    df = df.drop(columns=columns_to_delete, axis=1)\n",
    "    df = df.iloc[:, :-4]\n",
    "    df.columns = ['bank_name', 'credit_cards', 'debit_cards', 'cc_pos_vol(in actuals)',\n",
    "                  'cc_pos_value(in 1000Rs)', 'cc_online_vol(in actuals)', 'cc_online_value(in 1000Rs)',\n",
    "                  'cc_others_vol(in actuals)', 'cc_others_value(in 1000Rs)', 'dc_pos_vol(in actuals)',\n",
    "                  'dc_pos_value(in 1000Rs)', 'dc_online_vol(in actuals)', 'dc_online_value(in 1000Rs)',\n",
    "                  'dc_others_vol(in actuals)', 'dc_others_value(in 1000Rs)']\n",
    "    public_sector_banks = [\n",
    "        'BANK OF BARODA', 'BANK OF INDIA', 'BANK OF MAHARASHTRA', 'CANARA BANK', \n",
    "        'CENTRAL BANK OF INDIA', 'INDIAN BANK', 'INDIAN OVERSEAS BANK', 'PUNJAB AND SIND BANK', \n",
    "        'PUNJAB NATIONAL BANK', 'STATE BANK OF INDIA', 'UCO BANK', 'UNION BANK OF INDIA'\n",
    "    ]\n",
    "    private_sector_banks = [\n",
    "        'AXIS BANK LTD', 'BANDHAN BANK LTD', 'CATHOLIC SYRIAN BANK LTD', 'CITY UNION BANK', \n",
    "        'CITY UNION BANK LTD.', 'CSB BANK LTD', 'CSB BANK LTD.', 'DCB BANK LTD',\n",
    "        'DHANALAKSHMI BANK LTD', 'FEDERAL BANK LTD', 'HDFC BANK LTD', 'ICICI BANK LTD', \n",
    "        'IDBI BANK LTD', 'IDBI LTD', 'IDFC Bank Limited', 'IDFC FIRST BANK LTD', 'INDUSIND BANK LTD', \n",
    "        'JAMMU AND KASHMIR BANK', 'JAMMU AND KASHMIR BANK LTD', 'KARNATAKA BANK LTD', 'KARUR VYSYA BANK LTD', \n",
    "        'KOTAK MAHINDRA BANK LTD', 'NAINITAL BANK LTD', 'RATNAKAR BANK LIMITED', 'RBL BANK LTD', 'SOUTH INDIAN BANK', \n",
    "        'TAMILNAD MERCANTILE BANK LTD', 'YES BANK LTD'\n",
    "    ]\n",
    "    foreign_banks = [\n",
    "        'AMERICAN EXPRESS','AMERICAN EXPRESS BANKING CORPORATION','BANK OF AMERICA','BARCLAYS BANK PLC',\n",
    "        'CITI BANK','DBS BANK','DBS INDIA BANK LTD','DEUTSCHE BANK LTD','HONGKONG AND SHANGHAI BKG CORPN',\n",
    "        'HSBC LTD','SBM Bank India','SBM BANK INDIA LTD','STANDARD CHARTERED BANK LTD','WOORI BANK'\n",
    "    ]\n",
    "    df.loc[df['bank_name'].isin(public_sector_banks), 'Bank Type'] = 'Public Sector Banks'\n",
    "    df.loc[df['bank_name'].isin(private_sector_banks), 'Bank Type'] = 'Private Sector Banks'\n",
    "    df.loc[df['bank_name'].isin(foreign_banks), 'Bank Type'] = 'Foreign Banks'\n",
    "    df = df[['bank_name', 'Bank Type', 'credit_cards', 'debit_cards', 'cc_pos_vol(in actuals)',\n",
    "             'cc_pos_value(in 1000Rs)', 'cc_online_vol(in actuals)', 'cc_online_value(in 1000Rs)',\n",
    "             'cc_others_vol(in actuals)', 'cc_others_value(in 1000Rs)', 'dc_pos_vol(in actuals)',\n",
    "             'dc_pos_value(in 1000Rs)', 'dc_online_vol(in actuals)', 'dc_online_value(in 1000Rs)',\n",
    "             'dc_others_vol(in actuals)', 'dc_others_value(in 1000Rs)']]\n",
    "    output_file = os.path.join(output_directory, f\"{output_name}.csv\")\n",
    "    while os.path.exists(output_file):\n",
    "        output_file = os.path.join(output_directory, f\"{output_name}.csv\")\n",
    "    df.to_csv(output_file, index=False)\n",
    "    print(f\"DataFrame saved as: {output_file}\")\n"
   ]
  },
  {
   "cell_type": "code",
   "execution_count": null,
   "metadata": {},
   "outputs": [
    {
     "name": "stdout",
     "output_type": "stream",
     "text": [
      "DataFrame saved as: cleaned_data/2022APRIL.csv\n",
      "DataFrame saved as: cleaned_data/2022AUGUST.csv\n",
      "DataFrame saved as: cleaned_data/2022DECEMBER.csv\n",
      "DataFrame saved as: cleaned_data/2022JULY.csv\n",
      "DataFrame saved as: cleaned_data/2022JUNE.csv\n",
      "DataFrame saved as: cleaned_data/2022MAY.csv\n",
      "DataFrame saved as: cleaned_data/2022NOVEMBER.csv\n",
      "DataFrame saved as: cleaned_data/2022OCTOBER.csv\n",
      "DataFrame saved as: cleaned_data/2022SEPT.csv\n",
      "DataFrame saved as: cleaned_data/2023FEBRUARY.csv\n",
      "DataFrame saved as: cleaned_data/2023JAN.csv\n",
      "DataFrame saved as: cleaned_data/2023MARCH.csv\n"
     ]
    }
   ],
   "source": [
    "def clean_and_save_df(df, output_name, output_directory):\n",
    "    df.columns = [chr(ord('A') + i // 26 - 1) + chr(ord('A') + i % 26) if i >= 26 else chr(ord('A') + i) for i in range(29)]\n",
    "    df = df.drop(df.index[:9]).reset_index(drop=True)\n",
    "    del_from_payment_banks_index = df.index[df['B'].str.contains('Payment Banks', na=False)].tolist()\n",
    "    max_index = max(del_from_payment_banks_index, default=-1)\n",
    "    df = df.loc[:max_index].reset_index(drop=True)\n",
    "    df = df.dropna(thresh=df.shape[1] - 5).reset_index(drop=True)\n",
    "    columns_to_delete = ['A', 'B', 'D', 'E', 'F', 'G', 'H', 'I', 'R', 'S']\n",
    "    df = df.drop(columns=columns_to_delete, axis=1)\n",
    "    df = df.iloc[:, :-4]\n",
    "    df.columns = ['bank_name', 'credit_cards', 'debit_cards', 'cc_pos_vol(in actuals)',\n",
    "                  'cc_pos_value(in 1000Rs)', 'cc_online_vol(in actuals)', 'cc_online_value(in 1000Rs)',\n",
    "                  'cc_others_vol(in actuals)', 'cc_others_value(in 1000Rs)', 'dc_pos_vol(in actuals)',\n",
    "                  'dc_pos_value(in 1000Rs)', 'dc_online_vol(in actuals)', 'dc_online_value(in 1000Rs)',\n",
    "                  'dc_others_vol(in actuals)', 'dc_others_value(in 1000Rs)']\n",
    "\n",
    "    public_sector_banks = ['BANK OF BARODA', 'BANK OF INDIA', 'BANK OF MAHARASHTRA', 'CANARA BANK',\n",
    "        'CENTRAL BANK OF INDIA', 'INDIAN BANK', 'INDIAN OVERSEAS BANK', 'PUNJAB AND SIND BANK',\n",
    "        'PUNJAB NATIONAL BANK', 'STATE BANK OF INDIA', 'UCO BANK', 'UNION BANK OF INDIA']\n",
    "\n",
    "    private_sector_banks = ['AXIS BANK LTD', 'BANDHAN BANK LTD', 'CATHOLIC SYRIAN BANK LTD', 'CITY UNION BANK',\n",
    "        'CITY UNION BANK LTD.', 'CSB BANK LTD', 'CSB BANK LTD.', 'DCB BANK LTD',\n",
    "        'DHANALAKSHMI BANK LTD', 'FEDERAL BANK LTD', 'HDFC BANK LTD', 'ICICI BANK LTD',\n",
    "        'IDBI BANK LTD', 'IDBI LTD', 'IDFC Bank Limited', 'IDFC FIRST BANK LTD', 'INDUSIND BANK LTD',\n",
    "        'JAMMU AND KASHMIR BANK', 'JAMMU AND KASHMIR BANK LTD', 'KARNATAKA BANK LTD', 'KARUR VYSYA BANK LTD',\n",
    "        'KOTAK MAHINDRA BANK LTD', 'NAINITAL BANK LTD', 'RATNAKAR BANK LIMITED', 'RBL BANK LTD', 'SOUTH INDIAN BANK',\n",
    "        'TAMILNAD MERCANTILE BANK LTD', 'YES BANK LTD']\n",
    "\n",
    "    foreign_banks = ['AMERICAN EXPRESS','AMERICAN EXPRESS BANKING CORPORATION','BANK OF AMERICA','BARCLAYS BANK PLC',\n",
    "        'CITI BANK','DBS BANK','DBS INDIA BANK LTD','DEUTSCHE BANK LTD','HONGKONG AND SHANGHAI BKG CORPN',\n",
    "        'HSBC LTD','SBM Bank India','SBM BANK INDIA LTD','STANDARD CHARTERED BANK LTD','WOORI BANK']\n",
    "\n",
    "    df.loc[df['bank_name'].isin(public_sector_banks), 'Bank Type'] = 'Public Sector Banks'\n",
    "    df.loc[df['bank_name'].isin(private_sector_banks), 'Bank Type'] = 'Private Sector Banks'\n",
    "    df.loc[df['bank_name'].isin(foreign_banks), 'Bank Type'] = 'Foreign Banks'\n",
    "\n",
    "    df = df[['bank_name', 'Bank Type', 'credit_cards', 'debit_cards', 'cc_pos_vol(in actuals)',\n",
    "             'cc_pos_value(in 1000Rs)', 'cc_online_vol(in actuals)', 'cc_online_value(in 1000Rs)',\n",
    "             'cc_others_vol(in actuals)', 'cc_others_value(in 1000Rs)', 'dc_pos_vol(in actuals)',\n",
    "             'dc_pos_value(in 1000Rs)', 'dc_online_vol(in actuals)', 'dc_online_value(in 1000Rs)',\n",
    "             'dc_others_vol(in actuals)', 'dc_others_value(in 1000Rs)']]\n",
    "\n",
    "    output_file = os.path.join(output_directory, f\"{output_name}.csv\")\n",
    "    while os.path.exists(output_file):\n",
    "        output_file = os.path.join(output_directory, f\"{output_name}.csv\")\n",
    "\n",
    "    df.to_csv(output_file, index=False)\n",
    "    print(f\"DataFrame saved as: {output_file}\")\n"
   ]
  },
  {
   "cell_type": "markdown",
   "metadata": {},
   "source": [
    "___"
   ]
  }
 ],
 "metadata": {
  "kernelspec": {
   "display_name": "base",
   "language": "python",
   "name": "python3"
  },
  "language_info": {
   "codemirror_mode": {
    "name": "ipython",
    "version": 3
   },
   "file_extension": ".py",
   "mimetype": "text/x-python",
   "name": "python",
   "nbconvert_exporter": "python",
   "pygments_lexer": "ipython3",
   "version": "3.11.5"
  }
 },
 "nbformat": 4,
 "nbformat_minor": 2
}
